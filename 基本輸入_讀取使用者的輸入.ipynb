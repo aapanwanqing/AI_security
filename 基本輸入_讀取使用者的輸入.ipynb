{
  "nbformat": 4,
  "nbformat_minor": 0,
  "metadata": {
    "colab": {
      "name": "基本輸入:讀取使用者的輸入.ipynb",
      "provenance": [],
      "authorship_tag": "ABX9TyN88nJSckqXZedov0w5MMVJ",
      "include_colab_link": true
    },
    "kernelspec": {
      "name": "python3",
      "display_name": "Python 3"
    }
  },
  "cells": [
    {
      "cell_type": "markdown",
      "metadata": {
        "id": "view-in-github",
        "colab_type": "text"
      },
      "source": [
        "<a href=\"https://colab.research.google.com/github/aapanwanqing/AI_security/blob/master/%E5%9F%BA%E6%9C%AC%E8%BC%B8%E5%85%A5_%E8%AE%80%E5%8F%96%E4%BD%BF%E7%94%A8%E8%80%85%E7%9A%84%E8%BC%B8%E5%85%A5.ipynb\" target=\"_parent\"><img src=\"https://colab.research.google.com/assets/colab-badge.svg\" alt=\"Open In Colab\"/></a>"
      ]
    },
    {
      "cell_type": "code",
      "metadata": {
        "id": "Uje7VTknUJJk",
        "colab_type": "code",
        "colab": {
          "base_uri": "https://localhost:8080/",
          "height": 86
        },
        "outputId": "98e60691-5489-4e0d-930e-476bf6a1cb35"
      },
      "source": [
        "x = input('Enter your name:')\n",
        "print('Hello, ' + x)\n",
        "\n",
        "a = input(\"請輸入：\")\n",
        "a"
      ],
      "execution_count": 1,
      "outputs": [
        {
          "output_type": "stream",
          "text": [
            "Enter your name:ttr\n",
            "Hello, ttr\n",
            "請輸入：ee\n"
          ],
          "name": "stdout"
        },
        {
          "output_type": "execute_result",
          "data": {
            "application/vnd.google.colaboratory.intrinsic+json": {
              "type": "string"
            },
            "text/plain": [
              "'ee'"
            ]
          },
          "metadata": {
            "tags": []
          },
          "execution_count": 1
        }
      ]
    }
  ]
}